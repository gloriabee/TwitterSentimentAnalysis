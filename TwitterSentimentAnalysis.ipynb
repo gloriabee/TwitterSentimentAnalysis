{
  "nbformat": 4,
  "nbformat_minor": 0,
  "metadata": {
    "colab": {
      "provenance": [],
      "authorship_tag": "ABX9TyMPJs3V3WLusZ5j1b8+07gx",
      "include_colab_link": true
    },
    "kernelspec": {
      "name": "python3",
      "display_name": "Python 3"
    },
    "language_info": {
      "name": "python"
    }
  },
  "cells": [
    {
      "cell_type": "markdown",
      "metadata": {
        "id": "view-in-github",
        "colab_type": "text"
      },
      "source": [
        "<a href=\"https://colab.research.google.com/github/gloriabee/TwitterSentimentAnalysis/blob/main/TwitterSentimentAnalysis.ipynb\" target=\"_parent\"><img src=\"https://colab.research.google.com/assets/colab-badge.svg\" alt=\"Open In Colab\"/></a>"
      ]
    },
    {
      "cell_type": "markdown",
      "source": [
        "## Load and analyze dataset"
      ],
      "metadata": {
        "id": "mZz6gTW4JO4U"
      }
    },
    {
      "cell_type": "code",
      "execution_count": null,
      "metadata": {
        "id": "ap3SDUv2JDSN"
      },
      "outputs": [],
      "source": [
        "import pandas as pd\n",
        "import numpy as np"
      ]
    },
    {
      "cell_type": "code",
      "source": [
        "df=pd.read_csv('tweet_data.csv')"
      ],
      "metadata": {
        "id": "f1ar4hWwJSoJ"
      },
      "execution_count": null,
      "outputs": []
    },
    {
      "cell_type": "code",
      "source": [
        "df.shape"
      ],
      "metadata": {
        "colab": {
          "base_uri": "https://localhost:8080/"
        },
        "id": "zPCCQ0I-Jgzc",
        "outputId": "3fa77e9f-5259-4b86-8208-4e09b1c67cd4"
      },
      "execution_count": null,
      "outputs": [
        {
          "output_type": "execute_result",
          "data": {
            "text/plain": [
              "(18727, 3)"
            ]
          },
          "metadata": {},
          "execution_count": 6
        }
      ]
    },
    {
      "cell_type": "code",
      "source": [
        "df.sample(5)"
      ],
      "metadata": {
        "colab": {
          "base_uri": "https://localhost:8080/",
          "height": 206
        },
        "id": "HzgOlBT6JkJV",
        "outputId": "f425f54c-1710-403b-e1d8-e5b855797118"
      },
      "execution_count": null,
      "outputs": [
        {
          "output_type": "execute_result",
          "data": {
            "text/plain": [
              "           textID                                         tweet_text sentiment\n",
              "14591  1751953368  @ashleytisdale http://twitpic.com/4t4jv - No j...  positive\n",
              "10336  1694329574  I am now eating one of those big subway cookie...  positive\n",
              "17254  1753399537  @augustine25 TY my friend. Yes ur right.... a ...  positive\n",
              "10093  1694220719  @NateALO Hope you had a great weekend, congrat...  positive\n",
              "4955   1962908347  running errands with geeta... feeling like i h...  negative"
            ],
            "text/html": [
              "\n",
              "  <div id=\"df-8bf0a292-801c-4778-9bcf-ba1b4721ef72\" class=\"colab-df-container\">\n",
              "    <div>\n",
              "<style scoped>\n",
              "    .dataframe tbody tr th:only-of-type {\n",
              "        vertical-align: middle;\n",
              "    }\n",
              "\n",
              "    .dataframe tbody tr th {\n",
              "        vertical-align: top;\n",
              "    }\n",
              "\n",
              "    .dataframe thead th {\n",
              "        text-align: right;\n",
              "    }\n",
              "</style>\n",
              "<table border=\"1\" class=\"dataframe\">\n",
              "  <thead>\n",
              "    <tr style=\"text-align: right;\">\n",
              "      <th></th>\n",
              "      <th>textID</th>\n",
              "      <th>tweet_text</th>\n",
              "      <th>sentiment</th>\n",
              "    </tr>\n",
              "  </thead>\n",
              "  <tbody>\n",
              "    <tr>\n",
              "      <th>14591</th>\n",
              "      <td>1751953368</td>\n",
              "      <td>@ashleytisdale http://twitpic.com/4t4jv - No j...</td>\n",
              "      <td>positive</td>\n",
              "    </tr>\n",
              "    <tr>\n",
              "      <th>10336</th>\n",
              "      <td>1694329574</td>\n",
              "      <td>I am now eating one of those big subway cookie...</td>\n",
              "      <td>positive</td>\n",
              "    </tr>\n",
              "    <tr>\n",
              "      <th>17254</th>\n",
              "      <td>1753399537</td>\n",
              "      <td>@augustine25 TY my friend. Yes ur right.... a ...</td>\n",
              "      <td>positive</td>\n",
              "    </tr>\n",
              "    <tr>\n",
              "      <th>10093</th>\n",
              "      <td>1694220719</td>\n",
              "      <td>@NateALO Hope you had a great weekend, congrat...</td>\n",
              "      <td>positive</td>\n",
              "    </tr>\n",
              "    <tr>\n",
              "      <th>4955</th>\n",
              "      <td>1962908347</td>\n",
              "      <td>running errands with geeta... feeling like i h...</td>\n",
              "      <td>negative</td>\n",
              "    </tr>\n",
              "  </tbody>\n",
              "</table>\n",
              "</div>\n",
              "    <div class=\"colab-df-buttons\">\n",
              "\n",
              "  <div class=\"colab-df-container\">\n",
              "    <button class=\"colab-df-convert\" onclick=\"convertToInteractive('df-8bf0a292-801c-4778-9bcf-ba1b4721ef72')\"\n",
              "            title=\"Convert this dataframe to an interactive table.\"\n",
              "            style=\"display:none;\">\n",
              "\n",
              "  <svg xmlns=\"http://www.w3.org/2000/svg\" height=\"24px\" viewBox=\"0 -960 960 960\">\n",
              "    <path d=\"M120-120v-720h720v720H120Zm60-500h600v-160H180v160Zm220 220h160v-160H400v160Zm0 220h160v-160H400v160ZM180-400h160v-160H180v160Zm440 0h160v-160H620v160ZM180-180h160v-160H180v160Zm440 0h160v-160H620v160Z\"/>\n",
              "  </svg>\n",
              "    </button>\n",
              "\n",
              "  <style>\n",
              "    .colab-df-container {\n",
              "      display:flex;\n",
              "      gap: 12px;\n",
              "    }\n",
              "\n",
              "    .colab-df-convert {\n",
              "      background-color: #E8F0FE;\n",
              "      border: none;\n",
              "      border-radius: 50%;\n",
              "      cursor: pointer;\n",
              "      display: none;\n",
              "      fill: #1967D2;\n",
              "      height: 32px;\n",
              "      padding: 0 0 0 0;\n",
              "      width: 32px;\n",
              "    }\n",
              "\n",
              "    .colab-df-convert:hover {\n",
              "      background-color: #E2EBFA;\n",
              "      box-shadow: 0px 1px 2px rgba(60, 64, 67, 0.3), 0px 1px 3px 1px rgba(60, 64, 67, 0.15);\n",
              "      fill: #174EA6;\n",
              "    }\n",
              "\n",
              "    .colab-df-buttons div {\n",
              "      margin-bottom: 4px;\n",
              "    }\n",
              "\n",
              "    [theme=dark] .colab-df-convert {\n",
              "      background-color: #3B4455;\n",
              "      fill: #D2E3FC;\n",
              "    }\n",
              "\n",
              "    [theme=dark] .colab-df-convert:hover {\n",
              "      background-color: #434B5C;\n",
              "      box-shadow: 0px 1px 3px 1px rgba(0, 0, 0, 0.15);\n",
              "      filter: drop-shadow(0px 1px 2px rgba(0, 0, 0, 0.3));\n",
              "      fill: #FFFFFF;\n",
              "    }\n",
              "  </style>\n",
              "\n",
              "    <script>\n",
              "      const buttonEl =\n",
              "        document.querySelector('#df-8bf0a292-801c-4778-9bcf-ba1b4721ef72 button.colab-df-convert');\n",
              "      buttonEl.style.display =\n",
              "        google.colab.kernel.accessAllowed ? 'block' : 'none';\n",
              "\n",
              "      async function convertToInteractive(key) {\n",
              "        const element = document.querySelector('#df-8bf0a292-801c-4778-9bcf-ba1b4721ef72');\n",
              "        const dataTable =\n",
              "          await google.colab.kernel.invokeFunction('convertToInteractive',\n",
              "                                                    [key], {});\n",
              "        if (!dataTable) return;\n",
              "\n",
              "        const docLinkHtml = 'Like what you see? Visit the ' +\n",
              "          '<a target=\"_blank\" href=https://colab.research.google.com/notebooks/data_table.ipynb>data table notebook</a>'\n",
              "          + ' to learn more about interactive tables.';\n",
              "        element.innerHTML = '';\n",
              "        dataTable['output_type'] = 'display_data';\n",
              "        await google.colab.output.renderOutput(dataTable, element);\n",
              "        const docLink = document.createElement('div');\n",
              "        docLink.innerHTML = docLinkHtml;\n",
              "        element.appendChild(docLink);\n",
              "      }\n",
              "    </script>\n",
              "  </div>\n",
              "\n",
              "\n",
              "<div id=\"df-c944bcd4-9bfc-4810-97bc-4fd414d5585f\">\n",
              "  <button class=\"colab-df-quickchart\" onclick=\"quickchart('df-c944bcd4-9bfc-4810-97bc-4fd414d5585f')\"\n",
              "            title=\"Suggest charts\"\n",
              "            style=\"display:none;\">\n",
              "\n",
              "<svg xmlns=\"http://www.w3.org/2000/svg\" height=\"24px\"viewBox=\"0 0 24 24\"\n",
              "     width=\"24px\">\n",
              "    <g>\n",
              "        <path d=\"M19 3H5c-1.1 0-2 .9-2 2v14c0 1.1.9 2 2 2h14c1.1 0 2-.9 2-2V5c0-1.1-.9-2-2-2zM9 17H7v-7h2v7zm4 0h-2V7h2v10zm4 0h-2v-4h2v4z\"/>\n",
              "    </g>\n",
              "</svg>\n",
              "  </button>\n",
              "\n",
              "<style>\n",
              "  .colab-df-quickchart {\n",
              "      --bg-color: #E8F0FE;\n",
              "      --fill-color: #1967D2;\n",
              "      --hover-bg-color: #E2EBFA;\n",
              "      --hover-fill-color: #174EA6;\n",
              "      --disabled-fill-color: #AAA;\n",
              "      --disabled-bg-color: #DDD;\n",
              "  }\n",
              "\n",
              "  [theme=dark] .colab-df-quickchart {\n",
              "      --bg-color: #3B4455;\n",
              "      --fill-color: #D2E3FC;\n",
              "      --hover-bg-color: #434B5C;\n",
              "      --hover-fill-color: #FFFFFF;\n",
              "      --disabled-bg-color: #3B4455;\n",
              "      --disabled-fill-color: #666;\n",
              "  }\n",
              "\n",
              "  .colab-df-quickchart {\n",
              "    background-color: var(--bg-color);\n",
              "    border: none;\n",
              "    border-radius: 50%;\n",
              "    cursor: pointer;\n",
              "    display: none;\n",
              "    fill: var(--fill-color);\n",
              "    height: 32px;\n",
              "    padding: 0;\n",
              "    width: 32px;\n",
              "  }\n",
              "\n",
              "  .colab-df-quickchart:hover {\n",
              "    background-color: var(--hover-bg-color);\n",
              "    box-shadow: 0 1px 2px rgba(60, 64, 67, 0.3), 0 1px 3px 1px rgba(60, 64, 67, 0.15);\n",
              "    fill: var(--button-hover-fill-color);\n",
              "  }\n",
              "\n",
              "  .colab-df-quickchart-complete:disabled,\n",
              "  .colab-df-quickchart-complete:disabled:hover {\n",
              "    background-color: var(--disabled-bg-color);\n",
              "    fill: var(--disabled-fill-color);\n",
              "    box-shadow: none;\n",
              "  }\n",
              "\n",
              "  .colab-df-spinner {\n",
              "    border: 2px solid var(--fill-color);\n",
              "    border-color: transparent;\n",
              "    border-bottom-color: var(--fill-color);\n",
              "    animation:\n",
              "      spin 1s steps(1) infinite;\n",
              "  }\n",
              "\n",
              "  @keyframes spin {\n",
              "    0% {\n",
              "      border-color: transparent;\n",
              "      border-bottom-color: var(--fill-color);\n",
              "      border-left-color: var(--fill-color);\n",
              "    }\n",
              "    20% {\n",
              "      border-color: transparent;\n",
              "      border-left-color: var(--fill-color);\n",
              "      border-top-color: var(--fill-color);\n",
              "    }\n",
              "    30% {\n",
              "      border-color: transparent;\n",
              "      border-left-color: var(--fill-color);\n",
              "      border-top-color: var(--fill-color);\n",
              "      border-right-color: var(--fill-color);\n",
              "    }\n",
              "    40% {\n",
              "      border-color: transparent;\n",
              "      border-right-color: var(--fill-color);\n",
              "      border-top-color: var(--fill-color);\n",
              "    }\n",
              "    60% {\n",
              "      border-color: transparent;\n",
              "      border-right-color: var(--fill-color);\n",
              "    }\n",
              "    80% {\n",
              "      border-color: transparent;\n",
              "      border-right-color: var(--fill-color);\n",
              "      border-bottom-color: var(--fill-color);\n",
              "    }\n",
              "    90% {\n",
              "      border-color: transparent;\n",
              "      border-bottom-color: var(--fill-color);\n",
              "    }\n",
              "  }\n",
              "</style>\n",
              "\n",
              "  <script>\n",
              "    async function quickchart(key) {\n",
              "      const quickchartButtonEl =\n",
              "        document.querySelector('#' + key + ' button');\n",
              "      quickchartButtonEl.disabled = true;  // To prevent multiple clicks.\n",
              "      quickchartButtonEl.classList.add('colab-df-spinner');\n",
              "      try {\n",
              "        const charts = await google.colab.kernel.invokeFunction(\n",
              "            'suggestCharts', [key], {});\n",
              "      } catch (error) {\n",
              "        console.error('Error during call to suggestCharts:', error);\n",
              "      }\n",
              "      quickchartButtonEl.classList.remove('colab-df-spinner');\n",
              "      quickchartButtonEl.classList.add('colab-df-quickchart-complete');\n",
              "    }\n",
              "    (() => {\n",
              "      let quickchartButtonEl =\n",
              "        document.querySelector('#df-c944bcd4-9bfc-4810-97bc-4fd414d5585f button');\n",
              "      quickchartButtonEl.style.display =\n",
              "        google.colab.kernel.accessAllowed ? 'block' : 'none';\n",
              "    })();\n",
              "  </script>\n",
              "</div>\n",
              "\n",
              "    </div>\n",
              "  </div>\n"
            ],
            "application/vnd.google.colaboratory.intrinsic+json": {
              "type": "dataframe",
              "summary": "{\n  \"name\": \"df\",\n  \"rows\": 5,\n  \"fields\": [\n    {\n      \"column\": \"textID\",\n      \"properties\": {\n        \"dtype\": \"number\",\n        \"std\": 110988873,\n        \"min\": 1694220719,\n        \"max\": 1962908347,\n        \"num_unique_values\": 5,\n        \"samples\": [\n          1694329574,\n          1962908347,\n          1753399537\n        ],\n        \"semantic_type\": \"\",\n        \"description\": \"\"\n      }\n    },\n    {\n      \"column\": \"tweet_text\",\n      \"properties\": {\n        \"dtype\": \"string\",\n        \"num_unique_values\": 5,\n        \"samples\": [\n          \"I am now eating one of those big subway cookies with a glass of warm milk. YUM\",\n          \"running errands with geeta... feeling like i have the plague\",\n          \"@augustine25 TY my friend. Yes ur right.... a daughter is a daughter forever.\"\n        ],\n        \"semantic_type\": \"\",\n        \"description\": \"\"\n      }\n    },\n    {\n      \"column\": \"sentiment\",\n      \"properties\": {\n        \"dtype\": \"category\",\n        \"num_unique_values\": 2,\n        \"samples\": [\n          \"negative\",\n          \"positive\"\n        ],\n        \"semantic_type\": \"\",\n        \"description\": \"\"\n      }\n    }\n  ]\n}"
            }
          },
          "metadata": {},
          "execution_count": 7
        }
      ]
    },
    {
      "cell_type": "markdown",
      "source": [
        "\n",
        "\n",
        "*   print a tweet and its sentiment based on a tweet ID\n"
      ],
      "metadata": {
        "id": "cgutuLYqJ6gc"
      }
    },
    {
      "cell_type": "code",
      "source": [
        "tweet_id=4879\n",
        "tweet=df.iloc[tweet_id]\n",
        "# print(f\"Tweet: {tweet[\"tweet_text\"]}\")\n",
        "print(f\"Tweet: {tweet['tweet_text']}\")\n",
        "print(f\"Tweet sentiment: {tweet['sentiment']}\")"
      ],
      "metadata": {
        "colab": {
          "base_uri": "https://localhost:8080/"
        },
        "id": "hlkMST96Jmxf",
        "outputId": "533af535-b116-42a0-83c4-7c85ef0576fc"
      },
      "execution_count": null,
      "outputs": [
        {
          "output_type": "stream",
          "name": "stdout",
          "text": [
            "Tweet: Bad Day. History Test Tommorrow. And I want to go out in the sun and play..\n",
            "Tweet sentiment: negative\n"
          ]
        }
      ]
    },
    {
      "cell_type": "markdown",
      "source": [
        "## Dataset Visualization"
      ],
      "metadata": {
        "id": "nKcmlcyFKjLK"
      }
    },
    {
      "cell_type": "markdown",
      "source": [
        "### Matplotlib\n",
        "\n",
        "\n",
        "*   import the pyplot module from the matplotlib package\n",
        "\n"
      ],
      "metadata": {
        "id": "TO8Jp6FeOY7q"
      }
    },
    {
      "cell_type": "code",
      "source": [
        "import matplotlib.pyplot as plt\n"
      ],
      "metadata": {
        "id": "1NlMQOAXKhSm"
      },
      "execution_count": null,
      "outputs": []
    },
    {
      "cell_type": "markdown",
      "source": [
        "* `pyplot` helps understanding and representing how tweets are distributed over the dataset"
      ],
      "metadata": {
        "id": "1XjXxC9mOnnu"
      }
    },
    {
      "cell_type": "code",
      "source": [
        "sentiment_count= df['sentiment'].value_counts()\n",
        "sentiment_count"
      ],
      "metadata": {
        "colab": {
          "base_uri": "https://localhost:8080/",
          "height": 178
        },
        "id": "xQUxS796Qffc",
        "outputId": "fa62ad67-5ce4-4e55-a1a0-12a0c1ba1335"
      },
      "execution_count": null,
      "outputs": [
        {
          "output_type": "execute_result",
          "data": {
            "text/plain": [
              "sentiment\n",
              "positive    9897\n",
              "negative    8830\n",
              "Name: count, dtype: int64"
            ],
            "text/html": [
              "<div>\n",
              "<style scoped>\n",
              "    .dataframe tbody tr th:only-of-type {\n",
              "        vertical-align: middle;\n",
              "    }\n",
              "\n",
              "    .dataframe tbody tr th {\n",
              "        vertical-align: top;\n",
              "    }\n",
              "\n",
              "    .dataframe thead th {\n",
              "        text-align: right;\n",
              "    }\n",
              "</style>\n",
              "<table border=\"1\" class=\"dataframe\">\n",
              "  <thead>\n",
              "    <tr style=\"text-align: right;\">\n",
              "      <th></th>\n",
              "      <th>count</th>\n",
              "    </tr>\n",
              "    <tr>\n",
              "      <th>sentiment</th>\n",
              "      <th></th>\n",
              "    </tr>\n",
              "  </thead>\n",
              "  <tbody>\n",
              "    <tr>\n",
              "      <th>positive</th>\n",
              "      <td>9897</td>\n",
              "    </tr>\n",
              "    <tr>\n",
              "      <th>negative</th>\n",
              "      <td>8830</td>\n",
              "    </tr>\n",
              "  </tbody>\n",
              "</table>\n",
              "</div><br><label><b>dtype:</b> int64</label>"
            ]
          },
          "metadata": {},
          "execution_count": 10
        }
      ]
    },
    {
      "cell_type": "code",
      "source": [
        "plt.pie(sentiment_count, labels=sentiment_count.index, autopct='%1.1f%%',shadow=True,startangle=140)\n",
        "plt.show()"
      ],
      "metadata": {
        "colab": {
          "base_uri": "https://localhost:8080/",
          "height": 406
        },
        "id": "NYXTGjmSJ5r4",
        "outputId": "04a8deb0-ad5d-4b6e-b89f-c81df735cdb9"
      },
      "execution_count": null,
      "outputs": [
        {
          "output_type": "display_data",
          "data": {
            "text/plain": [
              "<Figure size 640x480 with 1 Axes>"
            ],
            "image/png": "[encoded data removed]"
          },
          "metadata": {}
        }
      ]
    },
    {
      "cell_type": "markdown",
      "source": [
        "### Wordclouds"
      ],
      "metadata": {
        "id": "YNKUXrXJQ26Y"
      }
    },
    {
      "cell_type": "markdown",
      "source": [
        "\n",
        "\n",
        "*   The **Wordclouds** package is very useful to get a quick overview of most recurrent words in the text corpus\n"
      ],
      "metadata": {
        "id": "xyu52-T2Q5uh"
      }
    },
    {
      "cell_type": "code",
      "source": [
        "from wordcloud import WordCloud"
      ],
      "metadata": {
        "id": "Qv3asNZkQ5AM"
      },
      "execution_count": null,
      "outputs": []
    },
    {
      "cell_type": "markdown",
      "source": [
        "\n",
        "\n",
        "*   What are the words most often present in positive tweets?\n",
        "\n"
      ],
      "metadata": {
        "id": "U5IzFSYBRH6U"
      }
    },
    {
      "cell_type": "code",
      "source": [
        "pos_tweets=df[df['sentiment']=='positive']\n",
        "txt= \" \".join(tweet.lower() for tweet in pos_tweets['tweet_text'])\n",
        "wordcloud=WordCloud().generate(txt)\n",
        "plt.imshow(wordcloud, interpolation='bilinear')\n",
        "plt.axis('off')\n",
        "plt.show()"
      ],
      "metadata": {
        "colab": {
          "base_uri": "https://localhost:8080/",
          "height": 285
        },
        "id": "tWADp1GPRFrF",
        "outputId": "f487bee4-fb6d-4414-fbd0-5964db010005"
      },
      "execution_count": null,
      "outputs": [
        {
          "output_type": "display_data",
          "data": {
            "text/plain": [
              "<Figure size 640x480 with 1 Axes>"
            ],
            "image/png": "[encoded data removed]"
          },
          "metadata": {}
        }
      ]
    },
    {
      "cell_type": "markdown",
      "source": [
        "\n",
        "\n",
        "* ... and in negative tweets?\n",
        "\n"
      ],
      "metadata": {
        "id": "UYfaAKfhSPP_"
      }
    },
    {
      "cell_type": "code",
      "source": [
        "pos_tweets=df[df['sentiment']=='negative']\n",
        "txt= \" \".join(tweet.lower() for tweet in pos_tweets['tweet_text'])\n",
        "wordcloud=WordCloud().generate(txt)\n",
        "plt.imshow(wordcloud, interpolation='bilinear')\n",
        "plt.axis('off')\n",
        "plt.show()"
      ],
      "metadata": {
        "colab": {
          "base_uri": "https://localhost:8080/",
          "height": 285
        },
        "id": "-sHKNKdHSS6p",
        "outputId": "304a4dc5-5f7d-4353-d11c-bed523b196cb"
      },
      "execution_count": null,
      "outputs": [
        {
          "output_type": "display_data",
          "data": {
            "text/plain": [
              "<Figure size 640x480 with 1 Axes>"
            ],
            "image/png": "[encoded data removed]"
          },
          "metadata": {}
        }
      ]
    },
    {
      "cell_type": "markdown",
      "source": [
        "## Text Normalization"
      ],
      "metadata": {
        "id": "GwEtAs23Seol"
      }
    },
    {
      "cell_type": "markdown",
      "source": [
        "\n",
        "\n",
        "*   Import regex package\n",
        "\n"
      ],
      "metadata": {
        "id": "2fWuwQAPSk97"
      }
    },
    {
      "cell_type": "code",
      "source": [
        "import re"
      ],
      "metadata": {
        "id": "y18nhcpxShfy"
      },
      "execution_count": null,
      "outputs": []
    },
    {
      "cell_type": "markdown",
      "source": [
        "### Twitter features"
      ],
      "metadata": {
        "id": "ydMMjl7DSrli"
      }
    },
    {
      "cell_type": "markdown",
      "source": [
        "\n",
        "\n",
        "*   Example of a random tweet that can be found on Twitter\n",
        "\n"
      ],
      "metadata": {
        "id": "u53ZzZPKTQQN"
      }
    },
    {
      "cell_type": "code",
      "source": [
        "tweet = \"RT @AIOutsider I love this! 👍 https://AIOutsider.com #NLP #Fun\""
      ],
      "metadata": {
        "id": "vOa-TL-yTXAb"
      },
      "execution_count": null,
      "outputs": []
    },
    {
      "cell_type": "code",
      "source": [
        "tweet"
      ],
      "metadata": {
        "colab": {
          "base_uri": "https://localhost:8080/",
          "height": 35
        },
        "id": "tKXzgRYSStWV",
        "outputId": "346529c5-2d96-4a71-a4ad-5c387f731731"
      },
      "execution_count": null,
      "outputs": [
        {
          "output_type": "execute_result",
          "data": {
            "text/plain": [
              "'RT @AIOutsider I love this! 👍 https://AIOutsider.com #NLP #Fun'"
            ],
            "application/vnd.google.colaboratory.intrinsic+json": {
              "type": "string"
            }
          },
          "metadata": {},
          "execution_count": 17
        }
      ]
    },
    {
      "cell_type": "markdown",
      "source": [
        "#### RT Tag\n",
        "\n",
        "* `R` : match \"R\" character\n",
        "* `T` : match \"T\" character\n",
        "* `\\s` : match any whitespace character\n",
        "* `+` : match one or more of the preceding tokens\n",
        "\n",
        "Handle the RT Tag\n",
        "* Replace occurences of RT with a default value\n",
        "\n"
      ],
      "metadata": {
        "id": "pjC0mJkIThB1"
      }
    },
    {
      "cell_type": "code",
      "source": [
        "def replace_retweet(tweet,default_replace=''):\n",
        "  tweet=re.sub('RT\\s+',default_replace,tweet)\n",
        "  return tweet"
      ],
      "metadata": {
        "id": "AeijZw8yTwQf"
      },
      "execution_count": null,
      "outputs": []
    },
    {
      "cell_type": "code",
      "source": [
        "print(f\"Processed tweet: {replace_retweet(tweet)}\")"
      ],
      "metadata": {
        "colab": {
          "base_uri": "https://localhost:8080/"
        },
        "id": "k5QmHOFbUsmE",
        "outputId": "bfb1f98c-bbe5-44ca-b53b-861c5312de23"
      },
      "execution_count": null,
      "outputs": [
        {
          "output_type": "stream",
          "name": "stdout",
          "text": [
            "Processed tweet: @AIOutsider I love this! 👍 https://AIOutsider.com #NLP #Fun\n"
          ]
        }
      ]
    },
    {
      "cell_type": "markdown",
      "source": [
        "#### @User Tag"
      ],
      "metadata": {
        "id": "rgNQnLkjYlH8"
      }
    },
    {
      "cell_type": "markdown",
      "source": [
        "\n",
        "\n",
        "*   Replace @_Someone_ with a default user tag\n"
      ],
      "metadata": {
        "id": "VHBDjFVBYpzR"
      }
    },
    {
      "cell_type": "code",
      "source": [
        "def replace_user(tweet,default_replace=''):\n",
        "  tweet=re.sub('\\B@\\w+',default_replace,tweet)\n",
        "  return tweet"
      ],
      "metadata": {
        "id": "l3j5Z7u8Y0hz"
      },
      "execution_count": null,
      "outputs": []
    },
    {
      "cell_type": "code",
      "source": [
        "print(f\"Processed tweet :{replace_user(tweet)}\")"
      ],
      "metadata": {
        "colab": {
          "base_uri": "https://localhost:8080/"
        },
        "id": "y_2LxehrZPXG",
        "outputId": "e07445a9-701c-4961-b5e2-556d59bafb2a"
      },
      "execution_count": null,
      "outputs": [
        {
          "output_type": "stream",
          "name": "stdout",
          "text": [
            "Processed tweet :RT  I love this! 👍 https://AIOutsider.com #NLP #Fun\n"
          ]
        }
      ]
    },
    {
      "cell_type": "markdown",
      "source": [
        "#### Emojis"
      ],
      "metadata": {
        "id": "-MEJRLtqZks0"
      }
    },
    {
      "cell_type": "markdown",
      "source": [
        "\n",
        "\n",
        "*   Install the emoji package\n",
        "\n"
      ],
      "metadata": {
        "id": "DWXcbcaSadDu"
      }
    },
    {
      "cell_type": "code",
      "source": [
        "pip install emoji --upgrade"
      ],
      "metadata": {
        "colab": {
          "base_uri": "https://localhost:8080/"
        },
        "id": "0SOazCQxZmQj",
        "outputId": "242e1080-9274-4ace-9a3d-b9bf1414371d"
      },
      "execution_count": null,
      "outputs": [
        {
          "output_type": "stream",
          "name": "stdout",
          "text": [
            "Collecting emoji\n",
            "  Downloading emoji-2.14.1-py3-none-any.whl.metadata (5.7 kB)\n",
            "Downloading emoji-2.14.1-py3-none-any.whl (590 kB)\n",
            "\u001b[?25l   \u001b[90m━━━━━━━━━━━━━━━━━━━━━━━━━━━━━━━━━━━━━━━━\u001b[0m \u001b[32m0.0/590.6 kB\u001b[0m \u001b[31m?\u001b[0m eta \u001b[36m-:--:--\u001b[0m\r\u001b[2K   \u001b[91m━━━━━━━━\u001b[0m\u001b[90m╺\u001b[0m\u001b[90m━━━━━━━━━━━━━━━━━━━━━━━━━━━━━━━\u001b[0m \u001b[32m122.9/590.6 kB\u001b[0m \u001b[31m3.5 MB/s\u001b[0m eta \u001b[36m0:00:01\u001b[0m\r\u001b[2K   \u001b[91m━━━━━━━━━━━━━━━━━━━━━━━━━━━━━━━━━━━━━━━\u001b[0m\u001b[91m╸\u001b[0m \u001b[32m583.7/590.6 kB\u001b[0m \u001b[31m9.8 MB/s\u001b[0m eta \u001b[36m0:00:01\u001b[0m\r\u001b[2K   \u001b[90m━━━━━━━━━━━━━━━━━━━━━━━━━━━━━━━━━━━━━━━━\u001b[0m \u001b[32m590.6/590.6 kB\u001b[0m \u001b[31m8.0 MB/s\u001b[0m eta \u001b[36m0:00:00\u001b[0m\n",
            "\u001b[?25hInstalling collected packages: emoji\n",
            "Successfully installed emoji-2.14.1\n"
          ]
        }
      ]
    },
    {
      "cell_type": "markdown",
      "source": [
        "\n",
        "\n",
        "*   import the installled package\n",
        "\n"
      ],
      "metadata": {
        "id": "3W9xE_WJan_3"
      }
    },
    {
      "cell_type": "code",
      "source": [
        "import emoji"
      ],
      "metadata": {
        "id": "i1AKHuI8akNq"
      },
      "execution_count": null,
      "outputs": []
    },
    {
      "cell_type": "markdown",
      "source": [
        "* Replace emojis with a meaningful text"
      ],
      "metadata": {
        "id": "ajE2QT_xasLZ"
      }
    },
    {
      "cell_type": "code",
      "source": [
        "def demojize(tweet):\n",
        "  tweet=emoji.demojize(tweet)\n",
        "  return tweet"
      ],
      "metadata": {
        "id": "liHL_8cKavU7"
      },
      "execution_count": null,
      "outputs": []
    },
    {
      "cell_type": "code",
      "source": [
        "print(f\"Processed tweet: {demojize(tweet)}\")"
      ],
      "metadata": {
        "colab": {
          "base_uri": "https://localhost:8080/"
        },
        "id": "y6EzO3brb9KE",
        "outputId": "912bcc0d-4bf1-4160-ad87-978e9831ed1b"
      },
      "execution_count": null,
      "outputs": [
        {
          "output_type": "stream",
          "name": "stdout",
          "text": [
            "Processed tweet: RT @AIOutsider I love this! :thumbs_up: https://AIOutsider.com #NLP #Fun\n"
          ]
        }
      ]
    },
    {
      "cell_type": "markdown",
      "source": [
        "#### URLs\n",
        "\n",
        "Handle the url\n",
        "* Replace occurences of **http://** or **https//** with a default value"
      ],
      "metadata": {
        "id": "2KvilZwBcEql"
      }
    },
    {
      "cell_type": "code",
      "source": [
        "def replace_url(tweet,default_replace=''):\n",
        "  tweet=re.sub('(http|https):\\/\\/\\S+',default_replace,tweet)\n",
        "  return tweet"
      ],
      "metadata": {
        "id": "NIwPr7ARcOmO"
      },
      "execution_count": null,
      "outputs": []
    },
    {
      "cell_type": "code",
      "source": [
        "print(f\"Processed tweet: {replace_url(tweet)}\")"
      ],
      "metadata": {
        "colab": {
          "base_uri": "https://localhost:8080/"
        },
        "id": "ukeaE258cvWE",
        "outputId": "1bb09440-54eb-447e-9104-4cadde547805"
      },
      "execution_count": null,
      "outputs": [
        {
          "output_type": "stream",
          "name": "stdout",
          "text": [
            "Processed tweet: RT @AIOutsider I love this! 👍  #NLP #Fun\n"
          ]
        }
      ]
    },
    {
      "cell_type": "markdown",
      "source": [
        "#### Hashtags"
      ],
      "metadata": {
        "id": "pJn7cWcJdBtO"
      }
    },
    {
      "cell_type": "markdown",
      "source": [
        "\n",
        "\n",
        "*   Replace occurences of #_something with a default value\n",
        "\n",
        "\n"
      ],
      "metadata": {
        "id": "v5yD-eSqdgtE"
      }
    },
    {
      "cell_type": "code",
      "source": [
        "def replace_hashtag(tweet,default_replace=''):\n",
        "  tweet=re.sub('#+',default_replace,tweet)\n",
        "  return tweet"
      ],
      "metadata": {
        "id": "68m-Uw3qdEcE"
      },
      "execution_count": null,
      "outputs": []
    },
    {
      "cell_type": "code",
      "source": [
        "print(f\"Processed tweet: {replace_hashtag(tweet)}\")"
      ],
      "metadata": {
        "colab": {
          "base_uri": "https://localhost:8080/"
        },
        "id": "koHjKHsQd1Hd",
        "outputId": "0961e05c-2ae4-4c14-e0d3-0e4c2f07c117"
      },
      "execution_count": null,
      "outputs": [
        {
          "output_type": "stream",
          "name": "stdout",
          "text": [
            "Processed tweet: RT @AIOutsider I love this! 👍 https://AIOutsider.com NLP Fun\n"
          ]
        }
      ]
    },
    {
      "cell_type": "markdown",
      "source": [
        "### General Features"
      ],
      "metadata": {
        "id": "GR7xFGgxgukZ"
      }
    },
    {
      "cell_type": "markdown",
      "source": [
        "Let's now have a look at some other features that are not really Twitter-dependent"
      ],
      "metadata": {
        "id": "681ob6K9g3Mz"
      }
    },
    {
      "cell_type": "code",
      "source": [
        "tweet = \"LOOOOOOOOK at this ... I'd like it so much!\""
      ],
      "metadata": {
        "id": "IAAIGWs1g9Y1"
      },
      "execution_count": null,
      "outputs": []
    },
    {
      "cell_type": "markdown",
      "source": [
        "#### Remove upper capitalization"
      ],
      "metadata": {
        "id": "ZANpSin2gzYz"
      }
    },
    {
      "cell_type": "markdown",
      "source": [
        "\n",
        "\n",
        "*   Lower case each letter in a specific tweet\n",
        "\n"
      ],
      "metadata": {
        "id": "0yAxZZs5hD_s"
      }
    },
    {
      "cell_type": "code",
      "source": [
        "def to_lowercase(tweet):\n",
        "  return tweet.lower()"
      ],
      "metadata": {
        "id": "zodGjYFHhCcE"
      },
      "execution_count": null,
      "outputs": []
    },
    {
      "cell_type": "code",
      "source": [
        "print(f\"Processed tweet: {to_lowercase(tweet)}\")"
      ],
      "metadata": {
        "colab": {
          "base_uri": "https://localhost:8080/"
        },
        "id": "27NXSEbbhQzz",
        "outputId": "32c015a4-5d06-45c0-9d70-2c09b1811911"
      },
      "execution_count": null,
      "outputs": [
        {
          "output_type": "stream",
          "name": "stdout",
          "text": [
            "Processed tweet: looooooook at this ... i'd like it so much!\n"
          ]
        }
      ]
    },
    {
      "cell_type": "markdown",
      "source": [
        "#### Word Repetition"
      ],
      "metadata": {
        "id": "iDw2W3jBhiZg"
      }
    },
    {
      "cell_type": "markdown",
      "source": [
        "* Replace word repetition with a single occurence (\"ooooo\" becomes \"oo\")"
      ],
      "metadata": {
        "id": "gPu6or3NhpLL"
      }
    },
    {
      "cell_type": "code",
      "source": [
        "def word_repetition(tweet):\n",
        "  tweet=re.sub(r'(.)\\1+',r'\\1\\1',tweet)\n",
        "  return tweet"
      ],
      "metadata": {
        "id": "XgCG7VX4hlvB"
      },
      "execution_count": null,
      "outputs": []
    },
    {
      "cell_type": "code",
      "source": [
        "print(f\"Processed tweet: {word_repetition(tweet)}\")"
      ],
      "metadata": {
        "colab": {
          "base_uri": "https://localhost:8080/"
        },
        "id": "ikVQaQkaiJ3f",
        "outputId": "ceb9fa93-18f0-4903-cf36-671d109cac12"
      },
      "execution_count": null,
      "outputs": [
        {
          "output_type": "stream",
          "name": "stdout",
          "text": [
            "Processed tweet: LOOK at this .. I'd like it so much!\n"
          ]
        }
      ]
    },
    {
      "cell_type": "markdown",
      "source": [
        "#### Punctuation Repetition\n",
        "\n",
        "* replace punctuation repetition with a single occurence(\"!!!!!\" becomes \"!\")"
      ],
      "metadata": {
        "id": "JHOB-pmCiSlB"
      }
    },
    {
      "cell_type": "code",
      "source": [
        "def punct_repetition(tweet,default_replace=''):\n",
        "  tweet=re.sub(r'[\\?\\.\\!]+(?=[\\?\\.\\!])',default_replace,tweet)\n",
        "  return tweet\n"
      ],
      "metadata": {
        "id": "MpYpXLJZibwF"
      },
      "execution_count": null,
      "outputs": []
    },
    {
      "cell_type": "code",
      "source": [
        "print(f\"Processed tweet: {punct_repetition(tweet)}\")"
      ],
      "metadata": {
        "colab": {
          "base_uri": "https://localhost:8080/"
        },
        "id": "2wqyH80xijUC",
        "outputId": "69861bfd-4e4c-4ae8-8b6e-8158f6a414d7"
      },
      "execution_count": null,
      "outputs": [
        {
          "output_type": "stream",
          "name": "stdout",
          "text": [
            "Processed tweet: LOOOOOOOOK at this . I'd like it so much!\n"
          ]
        }
      ]
    },
    {
      "cell_type": "markdown",
      "source": [
        "#### Word Contraction"
      ],
      "metadata": {
        "id": "8nYpGOK6llT6"
      }
    },
    {
      "cell_type": "markdown",
      "source": [
        "* install the contractions package"
      ],
      "metadata": {
        "id": "wlKK1f3ClosA"
      }
    },
    {
      "cell_type": "code",
      "source": [
        "pip install contractions"
      ],
      "metadata": {
        "colab": {
          "base_uri": "https://localhost:8080/"
        },
        "id": "Lz_lrUmOlfdw",
        "outputId": "3ce4efdd-765b-461d-9c31-a46a2832e45f"
      },
      "execution_count": null,
      "outputs": [
        {
          "output_type": "stream",
          "name": "stdout",
          "text": [
            "Collecting contractions\n",
            "  Downloading contractions-0.1.73-py2.py3-none-any.whl.metadata (1.2 kB)\n",
            "Collecting textsearch>=0.0.21 (from contractions)\n",
            "  Downloading textsearch-0.0.24-py2.py3-none-any.whl.metadata (1.2 kB)\n",
            "Collecting anyascii (from textsearch>=0.0.21->contractions)\n",
            "  Downloading anyascii-0.3.2-py3-none-any.whl.metadata (1.5 kB)\n",
            "Collecting pyahocorasick (from textsearch>=0.0.21->contractions)\n",
            "  Downloading pyahocorasick-2.1.0-cp311-cp311-manylinux_2_17_x86_64.manylinux2014_x86_64.whl.metadata (13 kB)\n",
            "Downloading contractions-0.1.73-py2.py3-none-any.whl (8.7 kB)\n",
            "Downloading textsearch-0.0.24-py2.py3-none-any.whl (7.6 kB)\n",
            "Downloading anyascii-0.3.2-py3-none-any.whl (289 kB)\n",
            "\u001b[2K   \u001b[90m━━━━━━━━━━━━━━━━━━━━━━━━━━━━━━━━━━━━━━━━\u001b[0m \u001b[32m289.9/289.9 kB\u001b[0m \u001b[31m6.7 MB/s\u001b[0m eta \u001b[36m0:00:00\u001b[0m\n",
            "\u001b[?25hDownloading pyahocorasick-2.1.0-cp311-cp311-manylinux_2_17_x86_64.manylinux2014_x86_64.whl (118 kB)\n",
            "\u001b[2K   \u001b[90m━━━━━━━━━━━━━━━━━━━━━━━━━━━━━━━━━━━━━━━━\u001b[0m \u001b[32m118.3/118.3 kB\u001b[0m \u001b[31m10.5 MB/s\u001b[0m eta \u001b[36m0:00:00\u001b[0m\n",
            "\u001b[?25hInstalling collected packages: pyahocorasick, anyascii, textsearch, contractions\n",
            "Successfully installed anyascii-0.3.2 contractions-0.1.73 pyahocorasick-2.1.0 textsearch-0.0.24\n"
          ]
        }
      ]
    },
    {
      "cell_type": "markdown",
      "source": [
        "* import the installed package"
      ],
      "metadata": {
        "id": "vaLmhOiKlxsS"
      }
    },
    {
      "cell_type": "code",
      "source": [
        "import contractions"
      ],
      "metadata": {
        "id": "5CylAfDnlvbh"
      },
      "execution_count": null,
      "outputs": []
    },
    {
      "cell_type": "markdown",
      "source": [
        "* Use contractions_dict to list most common contractions"
      ],
      "metadata": {
        "id": "vPrdtRt1l7CX"
      }
    },
    {
      "cell_type": "code",
      "source": [
        "print(contractions.contractions_dict)"
      ],
      "metadata": {
        "colab": {
          "base_uri": "https://localhost:8080/"
        },
        "id": "IVxXS3v-l182",
        "outputId": "30ebc60a-e7a4-4949-f090-7d36d785e1c8"
      },
      "execution_count": null,
      "outputs": [
        {
          "output_type": "stream",
          "name": "stdout",
          "text": [
            "{\"I'm\": 'I am', \"I'm'a\": 'I am about to', \"I'm'o\": 'I am going to', \"I've\": 'I have', \"I'll\": 'I will', \"I'll've\": 'I will have', \"I'd\": 'I would', \"I'd've\": 'I would have', 'Whatcha': 'What are you', \"amn't\": 'am not', \"ain't\": 'are not', \"aren't\": 'are not', \"'cause\": 'because', \"can't\": 'cannot', \"can't've\": 'cannot have', \"could've\": 'could have', \"couldn't\": 'could not', \"couldn't've\": 'could not have', \"daren't\": 'dare not', \"daresn't\": 'dare not', \"dasn't\": 'dare not', \"didn't\": 'did not', 'didn’t': 'did not', \"don't\": 'do not', 'don’t': 'do not', \"doesn't\": 'does not', \"e'er\": 'ever', \"everyone's\": 'everyone is', 'finna': 'fixing to', 'gimme': 'give me', \"gon't\": 'go not', 'gonna': 'going to', 'gotta': 'got to', \"hadn't\": 'had not', \"hadn't've\": 'had not have', \"hasn't\": 'has not', \"haven't\": 'have not', \"he've\": 'he have', \"he's\": 'he is', \"he'll\": 'he will', \"he'll've\": 'he will have', \"he'd\": 'he would', \"he'd've\": 'he would have', \"here's\": 'here is', \"how're\": 'how are', \"how'd\": 'how did', \"how'd'y\": 'how do you', \"how's\": 'how is', \"how'll\": 'how will', \"isn't\": 'is not', \"it's\": 'it is', \"'tis\": 'it is', \"'twas\": 'it was', \"it'll\": 'it will', \"it'll've\": 'it will have', \"it'd\": 'it would', \"it'd've\": 'it would have', 'kinda': 'kind of', \"let's\": 'let us', 'luv': 'love', \"ma'am\": 'madam', \"may've\": 'may have', \"mayn't\": 'may not', \"might've\": 'might have', \"mightn't\": 'might not', \"mightn't've\": 'might not have', \"must've\": 'must have', \"mustn't\": 'must not', \"mustn't've\": 'must not have', \"needn't\": 'need not', \"needn't've\": 'need not have', \"ne'er\": 'never', \"o'\": 'of', \"o'clock\": 'of the clock', \"ol'\": 'old', \"oughtn't\": 'ought not', \"oughtn't've\": 'ought not have', \"o'er\": 'over', \"shan't\": 'shall not', \"sha'n't\": 'shall not', \"shalln't\": 'shall not', \"shan't've\": 'shall not have', \"she's\": 'she is', \"she'll\": 'she will', \"she'd\": 'she would', \"she'd've\": 'she would have', \"should've\": 'should have', \"shouldn't\": 'should not', \"shouldn't've\": 'should not have', \"so've\": 'so have', \"so's\": 'so is', \"somebody's\": 'somebody is', \"someone's\": 'someone is', \"something's\": 'something is', 'sux': 'sucks', \"that're\": 'that are', \"that's\": 'that is', \"that'll\": 'that will', \"that'd\": 'that would', \"that'd've\": 'that would have', \"'em\": 'them', \"there're\": 'there are', \"there's\": 'there is', \"there'll\": 'there will', \"there'd\": 'there would', \"there'd've\": 'there would have', \"these're\": 'these are', \"they're\": 'they are', \"they've\": 'they have', \"they'll\": 'they will', \"they'll've\": 'they will have', \"they'd\": 'they would', \"they'd've\": 'they would have', \"this's\": 'this is', \"this'll\": 'this will', \"this'd\": 'this would', \"those're\": 'those are', \"to've\": 'to have', 'wanna': 'want to', \"wasn't\": 'was not', \"we're\": 'we are', \"we've\": 'we have', \"we'll\": 'we will', \"we'll've\": 'we will have', \"we'd\": 'we would', \"we'd've\": 'we would have', \"weren't\": 'were not', \"what're\": 'what are', \"what'd\": 'what did', \"what've\": 'what have', \"what's\": 'what is', \"what'll\": 'what will', \"what'll've\": 'what will have', \"when've\": 'when have', \"when's\": 'when is', \"where're\": 'where are', \"where'd\": 'where did', \"where've\": 'where have', \"where's\": 'where is', \"which's\": 'which is', \"who're\": 'who are', \"who've\": 'who have', \"who's\": 'who is', \"who'll\": 'who will', \"who'll've\": 'who will have', \"who'd\": 'who would', \"who'd've\": 'who would have', \"why're\": 'why are', \"why'd\": 'why did', \"why've\": 'why have', \"why's\": 'why is', \"will've\": 'will have', \"won't\": 'will not', \"won't've\": 'will not have', \"would've\": 'would have', \"wouldn't\": 'would not', \"wouldn't've\": 'would not have', \"y'all\": 'you all', \"y'all're\": 'you all are', \"y'all've\": 'you all have', \"y'all'd\": 'you all would', \"y'all'd've\": 'you all would have', \"you're\": 'you are', \"you've\": 'you have', \"you'll've\": 'you shall have', \"you'll\": 'you will', \"you'd\": 'you would', \"you'd've\": 'you would have', 'to cause': 'to cause', 'will cause': 'will cause', 'should cause': 'should cause', 'would cause': 'would cause', 'can cause': 'can cause', 'could cause': 'could cause', 'must cause': 'must cause', 'might cause': 'might cause', 'shall cause': 'shall cause', 'may cause': 'may cause', 'jan.': 'january', 'feb.': 'february', 'mar.': 'march', 'apr.': 'april', 'jun.': 'june', 'jul.': 'july', 'aug.': 'august', 'sep.': 'september', 'oct.': 'october', 'nov.': 'november', 'dec.': 'december', 'I’m': 'I am', 'I’m’a': 'I am about to', 'I’m’o': 'I am going to', 'I’ve': 'I have', 'I’ll': 'I will', 'I’ll’ve': 'I will have', 'I’d': 'I would', 'I’d’ve': 'I would have', 'amn’t': 'am not', 'ain’t': 'are not', 'aren’t': 'are not', '’cause': 'because', 'can’t': 'cannot', 'can’t’ve': 'cannot have', 'could’ve': 'could have', 'couldn’t': 'could not', 'couldn’t’ve': 'could not have', 'daren’t': 'dare not', 'daresn’t': 'dare not', 'dasn’t': 'dare not', 'doesn’t': 'does not', 'e’er': 'ever', 'everyone’s': 'everyone is', 'gon’t': 'go not', 'hadn’t': 'had not', 'hadn’t’ve': 'had not have', 'hasn’t': 'has not', 'haven’t': 'have not', 'he’ve': 'he have', 'he’s': 'he is', 'he’ll': 'he will', 'he’ll’ve': 'he will have', 'he’d': 'he would', 'he’d’ve': 'he would have', 'here’s': 'here is', 'how’re': 'how are', 'how’d': 'how did', 'how’d’y': 'how do you', 'how’s': 'how is', 'how’ll': 'how will', 'isn’t': 'is not', 'it’s': 'it is', '’tis': 'it is', '’twas': 'it was', 'it’ll': 'it will', 'it’ll’ve': 'it will have', 'it’d': 'it would', 'it’d’ve': 'it would have', 'let’s': 'let us', 'ma’am': 'madam', 'may’ve': 'may have', 'mayn’t': 'may not', 'might’ve': 'might have', 'mightn’t': 'might not', 'mightn’t’ve': 'might not have', 'must’ve': 'must have', 'mustn’t': 'must not', 'mustn’t’ve': 'must not have', 'needn’t': 'need not', 'needn’t’ve': 'need not have', 'ne’er': 'never', 'o’': 'of', 'o’clock': 'of the clock', 'ol’': 'old', 'oughtn’t': 'ought not', 'oughtn’t’ve': 'ought not have', 'o’er': 'over', 'shan’t': 'shall not', 'sha’n’t': 'shall not', 'shalln’t': 'shall not', 'shan’t’ve': 'shall not have', 'she’s': 'she is', 'she’ll': 'she will', 'she’d': 'she would', 'she’d’ve': 'she would have', 'should’ve': 'should have', 'shouldn’t': 'should not', 'shouldn’t’ve': 'should not have', 'so’ve': 'so have', 'so’s': 'so is', 'somebody’s': 'somebody is', 'someone’s': 'someone is', 'something’s': 'something is', 'that’re': 'that are', 'that’s': 'that is', 'that’ll': 'that will', 'that’d': 'that would', 'that’d’ve': 'that would have', '’em': 'them', 'there’re': 'there are', 'there’s': 'there is', 'there’ll': 'there will', 'there’d': 'there would', 'there’d’ve': 'there would have', 'these’re': 'these are', 'they’re': 'they are', 'they’ve': 'they have', 'they’ll': 'they will', 'they’ll’ve': 'they will have', 'they’d': 'they would', 'they’d’ve': 'they would have', 'this’s': 'this is', 'this’ll': 'this will', 'this’d': 'this would', 'those’re': 'those are', 'to’ve': 'to have', 'wasn’t': 'was not', 'we’re': 'we are', 'we’ve': 'we have', 'we’ll': 'we will', 'we’ll’ve': 'we will have', 'we’d': 'we would', 'we’d’ve': 'we would have', 'weren’t': 'were not', 'what’re': 'what are', 'what’d': 'what did', 'what’ve': 'what have', 'what’s': 'what is', 'what’ll': 'what will', 'what’ll’ve': 'what will have', 'when’ve': 'when have', 'when’s': 'when is', 'where’re': 'where are', 'where’d': 'where did', 'where’ve': 'where have', 'where’s': 'where is', 'which’s': 'which is', 'who’re': 'who are', 'who’ve': 'who have', 'who’s': 'who is', 'who’ll': 'who will', 'who’ll’ve': 'who will have', 'who’d': 'who would', 'who’d’ve': 'who would have', 'why’re': 'why are', 'why’d': 'why did', 'why’ve': 'why have', 'why’s': 'why is', 'will’ve': 'will have', 'won’t': 'will not', 'won’t’ve': 'will not have', 'would’ve': 'would have', 'wouldn’t': 'would not', 'wouldn’t’ve': 'would not have', 'y’all': 'you all', 'y’all’re': 'you all are', 'y’all’ve': 'you all have', 'y’all’d': 'you all would', 'y’all’d’ve': 'you all would have', 'you’re': 'you are', 'you’ve': 'you have', 'you’ll’ve': 'you shall have', 'you’ll': 'you will', 'you’d': 'you would', 'you’d’ve': 'you would have'}\n"
          ]
        }
      ]
    },
    {
      "cell_type": "markdown",
      "source": [
        "* Create a fix_contractions function used to replace contractions with their extended forms by using the contractions dictionary."
      ],
      "metadata": {
        "id": "8ijxtPyNmQVT"
      }
    },
    {
      "cell_type": "code",
      "source": [
        "def _fix_contractions(tweet):\n",
        "  for k,v in contractions.contractions_dict.items():\n",
        "    tweet=tweet.replace(k,v)\n",
        "  return tweet"
      ],
      "metadata": {
        "id": "QrboOcChmYFC"
      },
      "execution_count": null,
      "outputs": []
    },
    {
      "cell_type": "code",
      "source": [
        "print(f\"Processed tweet: {_fix_contractions(tweet)}\")\n",
        "#"
      ],
      "metadata": {
        "colab": {
          "base_uri": "https://localhost:8080/"
        },
        "id": "I4BATBMVmk-T",
        "outputId": "99d39eaa-dc94-404c-fe6a-9adb8deb921f"
      },
      "execution_count": null,
      "outputs": [
        {
          "output_type": "stream",
          "name": "stdout",
          "text": [
            "Processed tweet: LOOOOOOOOK at this ... I would like it so much!\n"
          ]
        }
      ]
    },
    {
      "cell_type": "markdown",
      "source": [
        "* Create a fix_contractions function used to replace contractions with their extended forms by using the contractions package."
      ],
      "metadata": {
        "id": "GgnzZwYemy8M"
      }
    },
    {
      "cell_type": "code",
      "source": [
        "def _fix_contractions(tweet):\n",
        "  tweet= contractions.fix(tweet)\n",
        "  return tweet\n"
      ],
      "metadata": {
        "id": "JnuQGuWam1c8"
      },
      "execution_count": null,
      "outputs": []
    },
    {
      "cell_type": "code",
      "source": [
        "print(f\"Processed tweet: {_fix_contractions(tweet)}\")\n",
        "#"
      ],
      "metadata": {
        "colab": {
          "base_uri": "https://localhost:8080/"
        },
        "id": "8a0sZ52DnDNz",
        "outputId": "891aa396-c4d8-4354-fb82-35ccd9e7f397"
      },
      "execution_count": null,
      "outputs": [
        {
          "output_type": "stream",
          "name": "stdout",
          "text": [
            "Processed tweet: LOOOOOOOOK at this ... I would like it so much!\n"
          ]
        }
      ]
    },
    {
      "cell_type": "markdown",
      "source": [
        "### Tokenizations\n"
      ],
      "metadata": {
        "id": "MtmkVhrQnSTh"
      }
    },
    {
      "cell_type": "markdown",
      "source": [
        "\n",
        "\n",
        "*   Tokenization is a way to separate text into smaller chunks\n",
        "\n",
        "\n",
        "**Tokenization Exceptions**\n",
        "\n",
        "*   Punctuation\n",
        "*   Stopwords\n",
        "*   Numbers\n",
        "\n",
        "\n",
        "\n"
      ],
      "metadata": {
        "id": "VhilfwYxnWUH"
      }
    },
    {
      "cell_type": "markdown",
      "source": [
        "#### Easy Tokenization\n",
        "\n",
        "*   Install the NLTK package\n"
      ],
      "metadata": {
        "id": "rodZj4V7ocuC"
      }
    },
    {
      "cell_type": "code",
      "source": [
        "pip install nltk"
      ],
      "metadata": {
        "colab": {
          "base_uri": "https://localhost:8080/"
        },
        "id": "4EOjf33EopE6",
        "outputId": "15b38ac1-02b8-4f7e-ce48-24a1919c28e0"
      },
      "execution_count": null,
      "outputs": [
        {
          "output_type": "stream",
          "name": "stdout",
          "text": [
            "Requirement already satisfied: nltk in /usr/local/lib/python3.11/dist-packages (3.9.1)\n",
            "Requirement already satisfied: click in /usr/local/lib/python3.11/dist-packages (from nltk) (8.1.8)\n",
            "Requirement already satisfied: joblib in /usr/local/lib/python3.11/dist-packages (from nltk) (1.4.2)\n",
            "Requirement already satisfied: regex>=2021.8.3 in /usr/local/lib/python3.11/dist-packages (from nltk) (2024.11.6)\n",
            "Requirement already satisfied: tqdm in /usr/local/lib/python3.11/dist-packages (from nltk) (4.67.1)\n"
          ]
        }
      ]
    },
    {
      "cell_type": "markdown",
      "source": [
        "\n",
        "\n",
        "*   import NLTK\n",
        "*   import the word_tokenize module from NLTK\n",
        "*   download the Punkt tokenizer model from NLTK\n",
        "\n",
        "\n"
      ],
      "metadata": {
        "id": "iqGNvavSouRM"
      }
    },
    {
      "cell_type": "code",
      "source": [
        "import nltk\n",
        "from nltk.tokenize import word_tokenize\n",
        "nltk.download('punkt_tab')"
      ],
      "metadata": {
        "colab": {
          "base_uri": "https://localhost:8080/"
        },
        "id": "sdo7iicfor_2",
        "outputId": "ec115629-2028-4d7d-a994-daf9852979fa"
      },
      "execution_count": null,
      "outputs": [
        {
          "output_type": "stream",
          "name": "stderr",
          "text": [
            "[nltk_data] Downloading package punkt_tab to /root/nltk_data...\n",
            "[nltk_data]   Unzipping tokenizers/punkt_tab.zip.\n"
          ]
        },
        {
          "output_type": "execute_result",
          "data": {
            "text/plain": [
              "True"
            ]
          },
          "metadata": {},
          "execution_count": 45
        }
      ]
    },
    {
      "cell_type": "markdown",
      "source": [
        "* Simple tweet to be tokenized"
      ],
      "metadata": {
        "id": "CeAAUnYGpG3Y"
      }
    },
    {
      "cell_type": "code",
      "source": [
        "tweet= \"These are 5 different words!\""
      ],
      "metadata": {
        "id": "5pXGl8GZsME0"
      },
      "execution_count": null,
      "outputs": []
    },
    {
      "cell_type": "markdown",
      "source": [
        "* Create tokenize() function that takes a tweet as input and returns a list of  tokens"
      ],
      "metadata": {
        "id": "9qY2d7lUsgeY"
      }
    },
    {
      "cell_type": "code",
      "source": [
        "word_tokenize(tweet)"
      ],
      "metadata": {
        "colab": {
          "base_uri": "https://localhost:8080/"
        },
        "id": "es2CA-NqsPHC",
        "outputId": "f0ca69de-f271-445e-9733-b42e3deb85cf"
      },
      "execution_count": null,
      "outputs": [
        {
          "output_type": "execute_result",
          "data": {
            "text/plain": [
              "['These', 'are', '5', 'different', 'words', '!']"
            ]
          },
          "metadata": {},
          "execution_count": 47
        }
      ]
    },
    {
      "cell_type": "markdown",
      "source": [
        "#### Custom Tokenization\n",
        "\n",
        "* import the string package\n",
        "\n"
      ],
      "metadata": {
        "id": "e5LZ8Nat8OAE"
      }
    },
    {
      "cell_type": "code",
      "source": [
        "import string"
      ],
      "metadata": {
        "id": "N_eRtWLG8E8t"
      },
      "execution_count": null,
      "outputs": []
    },
    {
      "cell_type": "markdown",
      "source": [
        "* retrieve english punctuation signs by using the string package"
      ],
      "metadata": {
        "id": "LO6jWQ-v9tDk"
      }
    },
    {
      "cell_type": "code",
      "source": [
        "print(string.punctuation)"
      ],
      "metadata": {
        "colab": {
          "base_uri": "https://localhost:8080/"
        },
        "id": "YLSkFbR08Wms",
        "outputId": "7228bcfa-4f3b-4cf0-c48f-0a20933d3659"
      },
      "execution_count": null,
      "outputs": [
        {
          "output_type": "stream",
          "name": "stdout",
          "text": [
            "!\"#$%&'()*+,-./:;<=>?@[\\]^_`{|}~\n"
          ]
        }
      ]
    },
    {
      "cell_type": "markdown",
      "source": [
        "\n",
        "\n",
        "*   import stopwords module from NLTK\n",
        "*   download stopwords from NLTK\n",
        "\n"
      ],
      "metadata": {
        "id": "dI8QKLmO92or"
      }
    },
    {
      "cell_type": "code",
      "source": [
        "from nltk.corpus import stopwords\n",
        "nltk.download('stopwords')"
      ],
      "metadata": {
        "colab": {
          "base_uri": "https://localhost:8080/"
        },
        "id": "yah7Bgdu99Ii",
        "outputId": "f7af21be-5b9f-4b2b-fad6-cb596d318a92"
      },
      "execution_count": null,
      "outputs": [
        {
          "output_type": "stream",
          "name": "stderr",
          "text": [
            "[nltk_data] Downloading package stopwords to /root/nltk_data...\n",
            "[nltk_data]   Unzipping corpora/stopwords.zip.\n"
          ]
        },
        {
          "output_type": "execute_result",
          "data": {
            "text/plain": [
              "True"
            ]
          },
          "metadata": {},
          "execution_count": 50
        }
      ]
    },
    {
      "cell_type": "markdown",
      "source": [
        "* create a set of english stopwords"
      ],
      "metadata": {
        "id": "CTgzpR1N-DCa"
      }
    },
    {
      "cell_type": "code",
      "source": [
        "stop_words=set(stopwords.words('english'))\n",
        "print(stop_words)"
      ],
      "metadata": {
        "colab": {
          "base_uri": "https://localhost:8080/"
        },
        "id": "hkljuLmw-CAS",
        "outputId": "28033566-f924-4d34-84e2-22841e487240"
      },
      "execution_count": null,
      "outputs": [
        {
          "output_type": "stream",
          "name": "stdout",
          "text": [
            "{'above', 'their', 'when', 'o', 'other', 'ain', 'below', 'am', 'out', 'she', 'an', 'shan', \"he's\", 'wasn', 'ours', 'these', 'needn', 'but', \"it'd\", 'which', 'no', 'myself', 'further', 'very', \"i'm\", 'll', 'both', 'does', \"she's\", 'isn', 'ma', 'some', 'haven', \"she'll\", 'theirs', 'hasn', 'i', 'can', \"shan't\", 'up', 'wouldn', 'during', \"couldn't\", 'my', 'too', 'is', 'who', 'just', 'doing', 'shouldn', 'into', \"mustn't\", 'in', \"you've\", 'mustn', \"it's\", 'with', 't', \"she'd\", 'are', 'don', \"should've\", \"we're\", 'not', 'yourself', \"needn't\", 'did', 'each', 'why', 'were', 'me', 'then', 'down', 'once', \"you're\", 'was', 'where', \"he'll\", 'its', 'few', 'themselves', \"i've\", 'him', 'it', 'against', 's', 'will', \"you'd\", 'or', 've', 'they', 'there', 'any', 'between', 'all', 'by', 'd', 'couldn', 'have', 'how', 'didn', 'than', 'about', 'should', \"they're\", \"wouldn't\", \"we'd\", 'because', 'from', 'we', 'them', 'our', \"doesn't\", \"wasn't\", \"that'll\", 'y', 'at', 'having', \"isn't\", 'won', 'you', 'he', 'mightn', \"we'll\", \"hadn't\", 'more', 'only', 'doesn', 'those', 'under', 'as', 'yours', 'until', \"don't\", 'and', 'aren', 'over', \"we've\", 'while', \"he'd\", 'so', 'if', \"they've\", 'to', 'hers', 'has', 'before', 'that', 'this', 'being', 'now', 'do', 'here', 'for', 'her', 'herself', 'a', 'whom', \"won't\", 'after', 'through', 'what', 'off', \"it'll\", 'be', 're', \"they'd\", 'himself', 'of', \"i'll\", 'own', 'yourselves', \"hasn't\", \"mightn't\", \"they'll\", \"you'll\", 'most', 'his', 'on', 'itself', \"haven't\", \"shouldn't\", 'same', \"weren't\", \"aren't\", 'been', 'had', 'weren', \"i'd\", 'again', 'hadn', 'the', 'your', 'nor', 'ourselves', 'such', \"didn't\", 'm'}\n"
          ]
        }
      ]
    },
    {
      "cell_type": "markdown",
      "source": [
        "* remove stopwords from the set"
      ],
      "metadata": {
        "id": "zPN1FmNb_Jah"
      }
    },
    {
      "cell_type": "code",
      "source": [
        "#stop_words.discard('not')"
      ],
      "metadata": {
        "id": "PfJasnpc_Mg8"
      },
      "execution_count": null,
      "outputs": []
    },
    {
      "cell_type": "markdown",
      "source": [
        "* create a custom_tokenize function"
      ],
      "metadata": {
        "id": "Vjy8uhxr_dCy"
      }
    },
    {
      "cell_type": "code",
      "source": [
        "def custom_tokenize(tweet,keep_punct=False,keep_alnum=False,keep_stop=False):\n",
        "  token_list=word_tokenize(tweet)\n",
        "  if not keep_punct:\n",
        "    token_list=[token for token in token_list if token not in string.punctuation]\n",
        "\n",
        "  if not keep_alnum:\n",
        "    token_list=[token for token in token_list if token.isalpha()]\n",
        "\n",
        "  if not keep_stop:\n",
        "    token_list= [token for token in token_list if not token in stop_words]\n",
        "\n",
        "  return token_list\n"
      ],
      "metadata": {
        "id": "_WADQgAT_nWo"
      },
      "execution_count": null,
      "outputs": []
    },
    {
      "cell_type": "markdown",
      "source": [
        "* Test the function with a particular tweet"
      ],
      "metadata": {
        "id": "MVc_QUnXCQ-D"
      }
    },
    {
      "cell_type": "code",
      "source": [
        "print(f'Tweet tokens: {custom_tokenize(tweet,keep_punct=True,keep_alnum=True,keep_stop=True)}')\n",
        "print(f'Tweet tokens: {custom_tokenize(tweet,keep_stop=True)}')\n",
        "print(f'Tweet tokens: {custom_tokenize(tweet,keep_alnum=True)}')\n",
        "#"
      ],
      "metadata": {
        "colab": {
          "base_uri": "https://localhost:8080/"
        },
        "id": "eioa3FY2CWaq",
        "outputId": "a4e3ddd5-d862-4ff3-b100-d5aec8c62f06"
      },
      "execution_count": null,
      "outputs": [
        {
          "output_type": "stream",
          "name": "stdout",
          "text": [
            "Tweet tokens: ['These', 'are', '5', 'different', 'words', '!']\n",
            "Tweet tokens: ['These', 'are', 'different', 'words']\n",
            "Tweet tokens: ['These', '5', 'different', 'words']\n"
          ]
        }
      ]
    },
    {
      "cell_type": "markdown",
      "source": [
        "### Stemmming\n",
        "\n",
        "Stemming is the process of reducing words to their root form.\n",
        "* Rule-based approach\n",
        "* Faster but chops words\n",
        "* Meaning is less important\n",
        "\n",
        "Over-stemming -> univers*al*, univers*ity*,\n",
        "univers*e*\n",
        "\n",
        "\n",
        "Under-stemming -> alumnu*e*, alumni, alumna*e*"
      ],
      "metadata": {
        "id": "QAqVi_2NEX5-"
      }
    },
    {
      "cell_type": "markdown",
      "source": [
        "\n",
        "\n",
        "*   import different libraries and modules used for stemming\n",
        "\n"
      ],
      "metadata": {
        "id": "ZSItZ8nJO5IY"
      }
    },
    {
      "cell_type": "code",
      "source": [
        "from nltk.stem import PorterStemmer\n",
        "from nltk.stem import LancasterStemmer\n",
        "from nltk.stem.snowball import SnowballStemmer"
      ],
      "metadata": {
        "id": "1-yk4rK8Ed24"
      },
      "execution_count": null,
      "outputs": []
    },
    {
      "cell_type": "markdown",
      "source": [
        "\n",
        "\n",
        "*   Lists of tokens to stem (remember that we stem tokens and not entire sentences)\n"
      ],
      "metadata": {
        "id": "QbR3e7YYPjaI"
      }
    },
    {
      "cell_type": "code",
      "source": [
        "tokens= [\"manager\",\"management\",\"managing\"]"
      ],
      "metadata": {
        "id": "f1mHhMb3PhHV"
      },
      "execution_count": null,
      "outputs": []
    },
    {
      "cell_type": "markdown",
      "source": [
        "\n",
        "\n",
        "*   Stemmers can be defined by directly using NLTK.\n",
        "\n"
      ],
      "metadata": {
        "id": "jwZ6MVLRP1N7"
      }
    },
    {
      "cell_type": "code",
      "source": [
        "ps=PorterStemmer()\n",
        "ls=LancasterStemmer()\n",
        "ss=SnowballStemmer('english')"
      ],
      "metadata": {
        "id": "X00K8ksSP-fS"
      },
      "execution_count": null,
      "outputs": []
    },
    {
      "cell_type": "markdown",
      "source": [
        "* Create a stem_tokens function that takes the list of tokens as input and returns a list of stemmed tokens"
      ],
      "metadata": {
        "id": "k3Gr3KV9Pu4m"
      }
    },
    {
      "cell_type": "code",
      "source": [
        "def stem_tokens(tokens,stemmer):\n",
        "  token_list=[]\n",
        "  for token in tokens:\n",
        "    token_list.append(stemmer.stem(token))\n",
        "  return token_list"
      ],
      "metadata": {
        "id": "HHebqGf6RMgC"
      },
      "execution_count": null,
      "outputs": []
    },
    {
      "cell_type": "markdown",
      "source": [
        "* print the different results and compare the stemmed tokens"
      ],
      "metadata": {
        "id": "P3TWLLHpRVvZ"
      }
    },
    {
      "cell_type": "code",
      "source": [
        "print(f\"Porter stems: {stem_tokens(tokens,ps)}\")\n",
        "print(f\"Lancaster stems: {stem_tokens(tokens,ls)}\")\n",
        "print(f\"Snowball stems: {stem_tokens(tokens,ss)}\")"
      ],
      "metadata": {
        "colab": {
          "base_uri": "https://localhost:8080/"
        },
        "id": "fZ4omqGWTBCy",
        "outputId": "fa31352a-1ffb-40ac-b911-6d9a730d7510"
      },
      "execution_count": null,
      "outputs": [
        {
          "output_type": "stream",
          "name": "stdout",
          "text": [
            "Porter stems: ['manag', 'manag', 'manag']\n",
            "Lancaster stems: ['man', 'man', 'man']\n",
            "Snowball stems: ['manag', 'manag', 'manag']\n"
          ]
        }
      ]
    },
    {
      "cell_type": "markdown",
      "source": [
        "* Check over-stemming and under-stemming"
      ],
      "metadata": {
        "id": "SAPQFY78UlWR"
      }
    },
    {
      "cell_type": "code",
      "source": [
        "tokens=['international','companies','had','interns']\n",
        "print(f\"Porter stems: {stem_tokens(tokens,ps)}\")\n",
        "print(f\"Lancaster stems: {stem_tokens(tokens,ls)}\")\n",
        "print(f\"Snowball stems: {stem_tokens(tokens,ss)}\")"
      ],
      "metadata": {
        "colab": {
          "base_uri": "https://localhost:8080/"
        },
        "id": "9_JxDpx-VPKP",
        "outputId": "d0a177a2-9d36-46df-be8a-9c46415dc601"
      },
      "execution_count": null,
      "outputs": [
        {
          "output_type": "stream",
          "name": "stdout",
          "text": [
            "Porter stems: ['intern', 'compani', 'had', 'intern']\n",
            "Lancaster stems: ['intern', 'company', 'had', 'intern']\n",
            "Snowball stems: ['intern', 'compani', 'had', 'intern']\n"
          ]
        }
      ]
    },
    {
      "cell_type": "markdown",
      "source": [
        "### What is Lemmatization?"
      ],
      "metadata": {
        "id": "vcuuIQMwaq7K"
      }
    },
    {
      "cell_type": "markdown",
      "source": [
        "**Lemmatization** serves the same purpose as Stemming but makes use of word context."
      ],
      "metadata": {
        "id": "pGlwN7babb-W"
      }
    },
    {
      "cell_type": "markdown",
      "source": [
        "* import different libraries and modules used for lemmatization"
      ],
      "metadata": {
        "id": "umwiEfbzd8RN"
      }
    },
    {
      "cell_type": "code",
      "source": [
        "from nltk.stem import WordNetLemmatizer\n",
        "from nltk.corpus import wordnet\n",
        "nltk.download('wordnet')"
      ],
      "metadata": {
        "colab": {
          "base_uri": "https://localhost:8080/"
        },
        "id": "QL3t-ttGauoT",
        "outputId": "bc0f5b6b-7215-4cc0-9c4d-4c1d5230b3e8"
      },
      "execution_count": null,
      "outputs": [
        {
          "output_type": "stream",
          "name": "stderr",
          "text": [
            "[nltk_data] Downloading package wordnet to /root/nltk_data...\n"
          ]
        },
        {
          "output_type": "execute_result",
          "data": {
            "text/plain": [
              "True"
            ]
          },
          "metadata": {},
          "execution_count": 61
        }
      ]
    },
    {
      "cell_type": "markdown",
      "source": [
        "* Lists of tokens to lemmatize (remember that we lemmatize tokens and not entire sentences)"
      ],
      "metadata": {
        "id": "0y-0qGNmeyhf"
      }
    },
    {
      "cell_type": "code",
      "source": [
        "tokens= [\"international\",\"companies\",\"had\",\"interns\"]"
      ],
      "metadata": {
        "id": "CQQGp1Def37D"
      },
      "execution_count": null,
      "outputs": []
    },
    {
      "cell_type": "markdown",
      "source": [
        "\n",
        "\n",
        "* Part of Speech (POS) tagging\n",
        "\n"
      ],
      "metadata": {
        "id": "_ww3Iozff93M"
      }
    },
    {
      "cell_type": "code",
      "source": [
        "word_Type={\"international\":wordnet.ADJ,\n",
        "           \"companies\":wordnet.NOUN,\n",
        "           \"had\":wordnet.VERB,\n",
        "           \"interns\":wordnet.NOUN}"
      ],
      "metadata": {
        "id": "GpQZ1rUokQAC"
      },
      "execution_count": null,
      "outputs": []
    },
    {
      "cell_type": "markdown",
      "source": [
        "* Create the lemmatizer by using the WordNet module"
      ],
      "metadata": {
        "id": "vQAVbTloxZkM"
      }
    },
    {
      "cell_type": "code",
      "source": [
        "lemmatizer= WordNetLemmatizer()"
      ],
      "metadata": {
        "id": "GeoolD1VxdWk"
      },
      "execution_count": null,
      "outputs": []
    },
    {
      "cell_type": "markdown",
      "source": [
        "* Create a lemmatize_tokens function that takes the lists of tokens as input and returns a list of lemmatized tokens"
      ],
      "metadata": {
        "id": "BRA95ddBlzff"
      }
    },
    {
      "cell_type": "code",
      "source": [
        "def lemmatize_tokens(tokens,word_Type,lemmatizer):\n",
        "  token_list=[]\n",
        "  for token in tokens:\n",
        "    token_list.append(lemmatizer.lemmatize(token,word_Type[token]))\n",
        "  return token_list"
      ],
      "metadata": {
        "id": "mo2uN7ppyQhB"
      },
      "execution_count": null,
      "outputs": []
    },
    {
      "cell_type": "code",
      "source": [
        "print(f\"Tweet lemma: {lemmatize_tokens(tokens,word_Type,lemmatizer)}\")"
      ],
      "metadata": {
        "colab": {
          "base_uri": "https://localhost:8080/"
        },
        "id": "8rMLpi0Wyddg",
        "outputId": "f11a5d73-06bc-4261-bf6f-a6ab3832de10"
      },
      "execution_count": null,
      "outputs": [
        {
          "output_type": "stream",
          "name": "stdout",
          "text": [
            "Tweet lemma: ['international', 'company', 'have', 'intern']\n"
          ]
        }
      ]
    },
    {
      "cell_type": "markdown",
      "source": [
        "### Tweet Pre-processing\n"
      ],
      "metadata": {
        "id": "h9w0LFsbeNqg"
      }
    },
    {
      "cell_type": "markdown",
      "source": [
        "#### Putting it all together\n",
        "\n",
        "* Long and complex tweet to be processed"
      ],
      "metadata": {
        "id": "kyun0Fcz0OIQ"
      }
    },
    {
      "cell_type": "code",
      "source": [
        "complex_tweet = r\"\"\"RT @AIOutsider : he looooook,\n",
        "THis is a big and complex TWeet!!! 👍 ...\n",
        "We'd be glad if you couldn't normalize it!\n",
        "Check https://t.co/7777 and LET ME KNOW!!! #NLP #Fun\"\"\""
      ],
      "metadata": {
        "id": "xQvySzf10WOV"
      },
      "execution_count": null,
      "outputs": []
    },
    {
      "cell_type": "code",
      "source": [
        "def process_tweet(tweet,verbose=False):\n",
        "  if verbose: print(f\"initial tweet: {tweet}\")\n",
        "\n",
        "  ## Twitter Features\n",
        "  tweet=replace_retweet(tweet)\n",
        "  tweet=replace_user(tweet)\n",
        "  tweet=replace_url(tweet)\n",
        "  tweet=replace_hashtag(tweet)\n",
        "  if verbose: print(f\"Post twitter processing tweet: {tweet}\")\n",
        "\n",
        "  ## Word Features\n",
        "  tweet=to_lowercase(tweet)\n",
        "  tweet=_fix_contractions(tweet)\n",
        "  tweet=word_repetition(tweet)\n",
        "  tweet=punct_repetition(tweet)\n",
        "  tweet=demojize(tweet)\n",
        "\n",
        "  if verbose: print(f\"Post Word processing tweet: {tweet}\")\n",
        "\n",
        "  ## Tokenization & Stemming\n",
        "  tokens=custom_tokenize(tweet,keep_alnum=False,keep_stop=False)\n",
        "  stemmer= SnowballStemmer(\"english\")\n",
        "  stem=stem_tokens(tokens,stemmer)\n",
        "  return stem"
      ],
      "metadata": {
        "id": "UidXdmVT0omZ"
      },
      "execution_count": null,
      "outputs": []
    },
    {
      "cell_type": "code",
      "source": [
        "print(process_tweet(complex_tweet, verbose=False))"
      ],
      "metadata": {
        "colab": {
          "base_uri": "https://localhost:8080/"
        },
        "id": "Lk-uMREX2vI6",
        "outputId": "87ca1008-19f0-4fa9-caf0-f90398480f82"
      },
      "execution_count": null,
      "outputs": [
        {
          "output_type": "stream",
          "name": "stdout",
          "text": [
            "['look', 'big', 'complex', 'tweet', 'would', 'glad', 'could', 'normal', 'check', 'let', 'know', 'nlp', 'fun']\n"
          ]
        }
      ]
    }
  ]
}